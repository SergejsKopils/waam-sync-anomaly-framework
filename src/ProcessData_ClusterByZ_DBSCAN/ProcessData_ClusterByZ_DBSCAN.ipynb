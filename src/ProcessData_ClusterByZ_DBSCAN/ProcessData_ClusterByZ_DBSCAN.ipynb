{
 "cells": [
  {
   "cell_type": "markdown",
   "id": "507e1685",
   "metadata": {},
   "source": [
    "# 📊 WAAM Process Data: Clustering by Z using DBSCAN\n",
    "\n",
    "This notebook processes WAAM process logs, filters active points (ArcOn), clusters the data by height (Z-axis) using the DBSCAN algorithm, and visualizes the resulting deposition layers in 3D.\n",
    "\n",
    "## 📌 Workflow Steps:\n",
    "1. Load and clean process data\n",
    "2. Filter ArcOn segments only\n",
    "3. Select relevant parameters\n",
    "4. Cluster by Z using DBSCAN\n",
    "5. Filter noise points\n",
    "6. Visualize the clustered layers\n"
   ]
  },
  {
   "cell_type": "markdown",
   "id": "58b2eb2a",
   "metadata": {},
   "source": [
    "Imports"
   ]
  },
  {
   "cell_type": "code",
   "execution_count": 1,
   "id": "236e6459",
   "metadata": {},
   "outputs": [],
   "source": [
    "import pandas as pd\n",
    "import numpy as np\n",
    "from sklearn.cluster import DBSCAN\n",
    "import plotly.express as px\n"
   ]
  },
  {
   "cell_type": "markdown",
   "id": "7c904d27",
   "metadata": {},
   "source": [
    "Load and clean data"
   ]
  },
  {
   "cell_type": "code",
   "execution_count": 2,
   "id": "ee99c7d6",
   "metadata": {},
   "outputs": [],
   "source": [
    "import os\n",
    "import pandas as pd\n",
    "\n",
    "# 📌 Universal BASE_DIR definition\n",
    "try:\n",
    "    # If running as a .py file\n",
    "    BASE_DIR = os.path.abspath(os.path.join(os.path.dirname(__file__), '..', '..'))\n",
    "except NameError:\n",
    "    # If running in Jupyter or IPython\n",
    "    BASE_DIR = os.path.abspath(os.path.join(os.getcwd(), '..', '..'))\n"
   ]
  },
  {
   "cell_type": "code",
   "execution_count": 3,
   "id": "400a0320",
   "metadata": {},
   "outputs": [],
   "source": [
    "# # =========================\n",
    "# # 1. LOADING WORLD COORDINATES\n",
    "# # =========================\n",
    "\n",
    "# 📄 Path to points in the world coordinate system\n",
    "log_path = os.path.join(BASE_DIR, 'data', 'process', 'Log_Arc_at_15-Apr-2025_17-35.csv')\n",
    "df = pd.read_csv(log_path)\n",
    "\n",
    "# 🔍 Check\n",
    "# print(f\"✅ Points loaded: {len(points_df)}\")\n",
    "\n",
    "# Remove extra spaces from column names\n",
    "df.columns = df.columns.str.strip()\n"
   ]
  },
  {
   "cell_type": "markdown",
   "id": "8a9cba95",
   "metadata": {},
   "source": [
    "Filter active segments (ArcOn)"
   ]
  },
  {
   "cell_type": "code",
   "execution_count": 4,
   "id": "02af9e33",
   "metadata": {},
   "outputs": [],
   "source": [
    "# Keep only rows where ArcOn == 1 (active deposition)\n",
    "df = df[df['ArcOn'] == 1].copy()\n"
   ]
  },
  {
   "cell_type": "markdown",
   "id": "7f18e7c9",
   "metadata": {},
   "source": [
    "Select relevant columns"
   ]
  },
  {
   "cell_type": "code",
   "execution_count": 5,
   "id": "f46323b8",
   "metadata": {},
   "outputs": [],
   "source": [
    "columns_to_keep = ['time', 'x', 'y', 'z', 'speed', 'WFS', 'I', 'U']\n",
    "df = df[columns_to_keep]\n"
   ]
  },
  {
   "cell_type": "markdown",
   "id": "702ed192",
   "metadata": {},
   "source": [
    "DBSCAN clustering by Z"
   ]
  },
  {
   "cell_type": "code",
   "execution_count": 6,
   "id": "0523b6ef",
   "metadata": {},
   "outputs": [],
   "source": [
    "# Apply DBSCAN clustering based on Z coordinate\n",
    "z_values = df[['z']].values\n",
    "db = DBSCAN(eps=0.5, min_samples=5).fit(z_values)\n",
    "\n",
    "# Assign layer IDs\n",
    "df['layer_id'] = db.labels_\n"
   ]
  },
  {
   "cell_type": "markdown",
   "id": "b024be40",
   "metadata": {},
   "source": [
    "Remove noise points"
   ]
  },
  {
   "cell_type": "code",
   "execution_count": null,
   "id": "c4bb3467",
   "metadata": {},
   "outputs": [],
   "source": [
    "# Remove noise points (label -1)\n",
    "df_clean = df[df['layer_id'] != -1].copy()\n",
    "\n",
    "# ✅ Shift all labels by +1 (to start from 1 instead of 0)\n",
    "df_clean['layer_id'] = df_clean['layer_id'] + 1\n",
    "\n",
    "# Convert layer_id to string for color grouping\n",
    "df_clean['layer_id'] = df_clean['layer_id'].astype(int)\n"
   ]
  },
  {
   "cell_type": "markdown",
   "id": "1c04d924",
   "metadata": {},
   "source": [
    "3D Visualization"
   ]
  },
  {
   "cell_type": "code",
   "execution_count": 8,
   "id": "6689c604",
   "metadata": {},
   "outputs": [],
   "source": [
    "# Visualize clustered layers in 3D\n",
    "fig = px.line_3d(\n",
    "    df_clean,\n",
    "    x='x', y='y', z='z',\n",
    "    color='layer_id',\n",
    "    title=\"WAAM Process Layers (Clustered by Z via DBSCAN)\",\n",
    "    labels={'layer_id': 'Layer'},\n",
    "    hover_data=['time', 'speed', 'WFS', 'I', 'U']\n",
    ")\n",
    "fig.update_traces(line=dict(width=3))\n",
    "# fig.show()\n",
    "pass\n"
   ]
  },
  {
   "cell_type": "code",
   "execution_count": 9,
   "id": "eca6d6c1",
   "metadata": {},
   "outputs": [
    {
     "name": "stdout",
     "output_type": "stream",
     "text": [
      "✅ Plot saved: ./output\\ProcessData_ClusterByZ_DBSCAN.html\n"
     ]
    }
   ],
   "source": [
    "import os\n",
    "\n",
    "# 📁 Path to the output directory next to this notebook\n",
    "output_dir = \"./output\"\n",
    "os.makedirs(output_dir, exist_ok=True)\n",
    "\n",
    "# 📄 Path to the HTML file\n",
    "output_path = os.path.join(output_dir, \"ProcessData_ClusterByZ_DBSCAN.html\")\n",
    "\n",
    "# 💾 Save the figure\n",
    "fig.write_html(output_path)\n",
    "print(f\"✅ Plot saved: {output_path}\")\n"
   ]
  },
  {
   "cell_type": "markdown",
   "id": "cd430ea1",
   "metadata": {},
   "source": [
    "Save clustered result to CSV"
   ]
  },
  {
   "cell_type": "code",
   "execution_count": 10,
   "id": "128ddcac",
   "metadata": {},
   "outputs": [
    {
     "name": "stdout",
     "output_type": "stream",
     "text": [
      "✅ Saved: C:\\Users\\kopil\\OneDrive\\Рабочий стол\\Projects\\Additive_lab_robots\\RaTSiF\\data\\framework\\src\\ProcessData_ClusterByZ_DBSCAN\\output\\ProcessData_ClusterByZ_DBSCAN.csv\n"
     ]
    }
   ],
   "source": [
    "import os\n",
    "\n",
    "output_dir = r\"C:\\Users\\kopil\\OneDrive\\Рабочий стол\\Projects\\Additive_lab_robots\\RaTSiF\\data\\framework\\src\\ProcessData_ClusterByZ_DBSCAN\\output\"\n",
    "os.makedirs(output_dir, exist_ok=True)\n",
    "\n",
    "output_path = os.path.join(output_dir, \"ProcessData_ClusterByZ_DBSCAN.csv\")\n",
    "df_clean.to_csv(output_path, index=False)\n",
    "\n",
    "print(f\"✅ Saved: {output_path}\")\n"
   ]
  }
 ],
 "metadata": {
  "kernelspec": {
   "display_name": ".venv",
   "language": "python",
   "name": "python3"
  },
  "language_info": {
   "codemirror_mode": {
    "name": "ipython",
    "version": 3
   },
   "file_extension": ".py",
   "mimetype": "text/x-python",
   "name": "python",
   "nbconvert_exporter": "python",
   "pygments_lexer": "ipython3",
   "version": "3.12.2"
  }
 },
 "nbformat": 4,
 "nbformat_minor": 5
}
