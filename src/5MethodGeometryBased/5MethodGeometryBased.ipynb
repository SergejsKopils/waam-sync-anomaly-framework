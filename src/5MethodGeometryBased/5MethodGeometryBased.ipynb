{
 "cells": [
  {
   "cell_type": "code",
   "execution_count": 1,
   "id": "c19cd82f",
   "metadata": {
    "id": "c19cd82f"
   },
   "outputs": [],
   "source": [
    "import pandas as pd\n",
    "import numpy as np\n",
    "import matplotlib.pyplot as plt\n",
    "import plotly.express as px\n"
   ]
  },
  {
   "cell_type": "code",
   "execution_count": 2,
   "id": "76abb1e1",
   "metadata": {},
   "outputs": [],
   "source": [
    "import os\n",
    "import pandas as pd\n",
    "\n",
    "# 📌 Universal BASE_DIR definition\n",
    "try:\n",
    "    # If running as a .py script\n",
    "    BASE_DIR = os.path.abspath(os.path.join(os.path.dirname(__file__), '..', '..'))\n",
    "except NameError:\n",
    "    # If running in Jupyter or IPython\n",
    "    BASE_DIR = os.path.abspath(os.path.join(os.getcwd(), '..', '..'))\n"
   ]
  },
  {
   "cell_type": "code",
   "execution_count": 3,
   "id": "4503ec60",
   "metadata": {},
   "outputs": [
    {
     "name": "stdout",
     "output_type": "stream",
     "text": [
      "✅ Points loaded: 694020\n"
     ]
    }
   ],
   "source": [
    "# # =========================\n",
    "# # 1. LOADING WORLD COORDINATES\n",
    "# # =========================\n",
    "\n",
    "# 📄 Path to points in the world coordinate system\n",
    "points_path = os.path.join(BASE_DIR, 'data', 'sensor', 'points', '2025-04-15_17-43-22_points_694020.csv')\n",
    "df = pd.read_csv(points_path, skiprows=1, names=[\"X\", \"Y\", \"Z\"])\n",
    "\n",
    "# 🔍 Check\n",
    "print(f\"✅ Points loaded: {len(df)}\")\n"
   ]
  },
  {
   "cell_type": "code",
   "execution_count": 4,
   "id": "70411668",
   "metadata": {
    "id": "70411668"
   },
   "outputs": [],
   "source": [
    "# Calculate Euclidean distances\n",
    "deltas = np.sqrt(np.diff(df['X'])**2 + np.diff(df['Y'])**2 + np.diff(df['Z'])**2)\n",
    "top_jumps = np.argpartition(deltas, -6)[-6:]  # Find indices of the 6 largest jumps\n",
    "top_jumps = np.sort(top_jumps + 1)  # Shift by 1 to get split positions\n",
    "scan_boundaries = [0] + top_jumps.tolist() + [len(df)]  # Include start and end\n",
    "scans = [df.iloc[scan_boundaries[i]:scan_boundaries[i+1]].copy() for i in range(len(scan_boundaries) - 1)]\n",
    "\n",
    "# Manually split scan 3 into two parts\n",
    "scan3 = scans[2].reset_index(drop=True)\n",
    "deltas_scan3 = np.sqrt(np.diff(scan3['X'])**2 + np.diff(scan3['Y'])**2 + np.diff(scan3['Z'])**2)\n",
    "split_index = np.argmax(deltas_scan3) + 1  # Find largest jump\n",
    "scans_cleaned = scans[:2] + [scan3.iloc[:split_index], scan3.iloc[split_index:]] + scans[3:6]\n",
    "\n",
    "# Assign scan_id\n",
    "df_labeled = df.copy()\n",
    "df_labeled['scan_id'] = -1\n",
    "start_idx = 0\n",
    "for i, scan in enumerate(scans_cleaned):\n",
    "    end_idx = start_idx + len(scan)\n",
    "    df_labeled.loc[start_idx:end_idx-1, 'scan_id'] = i\n",
    "    start_idx = end_idx\n"
   ]
  },
  {
   "cell_type": "code",
   "execution_count": 5,
   "id": "8f6f0f95",
   "metadata": {},
   "outputs": [
    {
     "name": "stdout",
     "output_type": "stream",
     "text": [
      "🔍 Z range for filtering: -42.35 — -31.16\n",
      "✅ Points remaining after Z filtering: 652386\n",
      "🔍 ROI Z range: -41.67 — -31.21\n",
      "🔍 ROI X range: 1819.05 — 1874.29\n",
      "🔍 ROI Y range: 348.98 — 356.71\n",
      "✅ Points remaining after ROI filtering: 22965\n"
     ]
    }
   ],
   "source": [
    "# =========================\n",
    "# STEP: Z Outlier Removal (keep central 90% of values)\n",
    "# =========================\n",
    "\n",
    "z_low = df['Z'].quantile(0.05)\n",
    "z_high = df['Z'].quantile(0.99)\n",
    "\n",
    "print(f'🔍 Z range for filtering: {z_low:.2f} — {z_high:.2f}')\n",
    "\n",
    "df_clean_z = df_labeled[(df_labeled['Z'] >= z_low) & (df_labeled['Z'] <= z_high)].copy()\n",
    "print(f'✅ Points remaining after Z filtering: {len(df_clean_z)}')\n",
    "\n",
    "# =========================\n",
    "# ROI Filtering by X and Y (central region)\n",
    "# =========================\n",
    "\n",
    "x_min, x_max = df_clean_z['X'].quantile([0.3, 0.9])\n",
    "y_min, y_max = df_clean_z['Y'].quantile([0.367, 0.495])\n",
    "z_min, z_max = df_clean_z['Z'].quantile([0.6, 0.999])\n",
    "\n",
    "print(f'🔍 ROI Z range: {z_min:.2f} — {z_max:.2f}')\n",
    "print(f'🔍 ROI X range: {x_min:.2f} — {x_max:.2f}')\n",
    "print(f'🔍 ROI Y range: {y_min:.2f} — {y_max:.2f}')\n",
    "\n",
    "df_clean_roi = df_clean_z[\n",
    "    (df_clean_z['X'] >= x_min) & (df_clean_z['X'] <= x_max) &\n",
    "    (df_clean_z['Y'] >= y_min) & (df_clean_z['Y'] <= y_max) &\n",
    "    (df_clean_z['Z'] >= z_min) & (df_clean_z['Z'] <= z_max)\n",
    "].copy()\n",
    "\n",
    "print(f'✅ Points remaining after ROI filtering: {len(df_clean_roi)}')\n",
    "\n",
    "# ✅ Rename column\n",
    "df_clean_roi = df_clean_roi.rename(columns={\n",
    "    \"scan_id\": \"layer_id_5MethodGeometryBased\"\n",
    "})\n"
   ]
  },
  {
   "cell_type": "code",
   "execution_count": 6,
   "id": "fe5f33cb",
   "metadata": {},
   "outputs": [],
   "source": [
    "import plotly.graph_objs as go\n",
    "\n",
    "# Unique global layers\n",
    "unique_layers = sorted(df_clean_roi['layer_id_5MethodGeometryBased'].unique())  # global_layer_id\n",
    "\n",
    "# 🎯 Points for each layer\n",
    "data = []\n",
    "for lid in unique_layers:\n",
    "    subset = df_clean_roi[df_clean_roi['layer_id_5MethodGeometryBased'] == lid]\n",
    "    trace = go.Scatter3d(\n",
    "        x=subset['X'],\n",
    "        y=subset['Y'],\n",
    "        z=subset['Z'],\n",
    "        mode='markers',\n",
    "        marker=dict(size=2),\n",
    "        name=f'Layer {lid}',\n",
    "        visible=True if lid == 0 else False  # Show only the first layer by default\n",
    "    )\n",
    "    data.append(trace)\n",
    "\n",
    "# 🔘 Buttons to switch between layers\n",
    "buttons = []\n",
    "for i, lid in enumerate(unique_layers):\n",
    "    visible = [j == i for j in range(len(unique_layers))]\n",
    "    buttons.append(dict(\n",
    "        label=f\"Layer {lid}\",\n",
    "        method=\"update\",\n",
    "        args=[{\"visible\": visible}, {\"title\": f\"3D: Only Layer {lid}\"}]\n",
    "    ))\n",
    "\n",
    "# Button to show all layers\n",
    "buttons.insert(0, dict(\n",
    "    label=\"All Layers\",\n",
    "    method=\"update\",\n",
    "    args=[{\"visible\": [True]*len(unique_layers)}, {\"title\": \"3D: All Layers\"}]\n",
    "))\n",
    "\n",
    "# ⚙️ Final chart assembly\n",
    "fig = go.Figure(data=data)\n",
    "fig.update_layout(\n",
    "    updatemenus=[dict(\n",
    "        type=\"dropdown\",\n",
    "        direction=\"down\",\n",
    "        showactive=True,\n",
    "        x=1.05, y=1,\n",
    "        buttons=buttons\n",
    "    )],\n",
    "    scene=dict(\n",
    "        xaxis_title='X',\n",
    "        yaxis_title='Y',\n",
    "        zaxis_title='Z',\n",
    "        aspectmode='data'\n",
    "    ),\n",
    "    title=\"3D: Only Layer 0 (default)\"\n",
    ")\n",
    "\n",
    "# # 👁 Show\n",
    "# fig.show()\n",
    "pass\n"
   ]
  },
  {
   "cell_type": "code",
   "execution_count": 7,
   "id": "308088e6",
   "metadata": {},
   "outputs": [
    {
     "name": "stdout",
     "output_type": "stream",
     "text": [
      "✅ Plot saved: ./output\\3D_GeometryBased_layers.html\n"
     ]
    }
   ],
   "source": [
    "import os\n",
    "\n",
    "# 📁 Path to the output directory next to this notebook\n",
    "output_dir = \"./output\"\n",
    "os.makedirs(output_dir, exist_ok=True)\n",
    "\n",
    "# 📄 Path to the HTML file\n",
    "output_path = os.path.join(output_dir, \"3D_GeometryBased_layers.html\")\n",
    "\n",
    "# 💾 Save the figure\n",
    "fig.write_html(output_path)\n",
    "print(f\"✅ Plot saved: {output_path}\")\n"
   ]
  },
  {
   "cell_type": "code",
   "execution_count": 8,
   "id": "39039b76",
   "metadata": {},
   "outputs": [
    {
     "name": "stdout",
     "output_type": "stream",
     "text": [
      "🟢 Visualizing layer 1 (3316 points)\n"
     ]
    },
    {
     "name": "stderr",
     "output_type": "stream",
     "text": [
      "C:\\Users\\kopil\\AppData\\Local\\Temp\\ipykernel_4348\\2125352885.py:16: MatplotlibDeprecationWarning:\n",
      "\n",
      "The get_cmap function was deprecated in Matplotlib 3.7 and will be removed in 3.11. Use ``matplotlib.colormaps[name]`` or ``matplotlib.colormaps.get_cmap()`` or ``pyplot.get_cmap()`` instead.\n",
      "\n"
     ]
    },
    {
     "name": "stdout",
     "output_type": "stream",
     "text": [
      "💾 Saved: ./output/plots_GeometryBased_layers\\layer_1_2D.png, ./output/plots_GeometryBased_layers\\layer_1_3D.png\n",
      "🟢 Visualizing layer 2 (3704 points)\n",
      "💾 Saved: ./output/plots_GeometryBased_layers\\layer_2_2D.png, ./output/plots_GeometryBased_layers\\layer_2_3D.png\n",
      "🟢 Visualizing layer 3 (3873 points)\n",
      "💾 Saved: ./output/plots_GeometryBased_layers\\layer_3_2D.png, ./output/plots_GeometryBased_layers\\layer_3_3D.png\n",
      "🟢 Visualizing layer 4 (3936 points)\n",
      "💾 Saved: ./output/plots_GeometryBased_layers\\layer_4_2D.png, ./output/plots_GeometryBased_layers\\layer_4_3D.png\n",
      "🟢 Visualizing layer 5 (4041 points)\n",
      "💾 Saved: ./output/plots_GeometryBased_layers\\layer_5_2D.png, ./output/plots_GeometryBased_layers\\layer_5_3D.png\n",
      "🟢 Visualizing layer 6 (4095 points)\n",
      "💾 Saved: ./output/plots_GeometryBased_layers\\layer_6_2D.png, ./output/plots_GeometryBased_layers\\layer_6_3D.png\n",
      "📌 Combined 3D plot saved: ./output/plots_GeometryBased_layers\\all_layers_3D.png\n"
     ]
    }
   ],
   "source": [
    "# ✅ Enhanced visualization with color per layer and combined 3D view (Geometry-Based Method)\n",
    "\n",
    "import os\n",
    "import matplotlib.pyplot as plt\n",
    "from mpl_toolkits.mplot3d import Axes3D\n",
    "import matplotlib.cm as cm\n",
    "import numpy as np\n",
    "\n",
    "# 📁 Output folder\n",
    "output_dir = \"./output/plots_GeometryBased_layers\"\n",
    "os.makedirs(output_dir, exist_ok=True)\n",
    "\n",
    "# 📌 Unique layers and colormap\n",
    "unique_layers = sorted(df_clean_roi['layer_id_5MethodGeometryBased'].unique())\n",
    "n_layers = len(unique_layers)\n",
    "colormap = cm.get_cmap('tab20', n_layers)\n",
    "layer_colors_geometry_based = {layer_id: colormap(i) for i, layer_id in enumerate(unique_layers)}\n",
    "\n",
    "# 📐 Coordinate bounds\n",
    "x_min, x_max = df_clean_roi['X'].min(), df_clean_roi['X'].max()\n",
    "y_min, y_max = df_clean_roi['Y'].min(), df_clean_roi['Y'].max()\n",
    "z_min, z_max = df_clean_roi['Z'].min(), df_clean_roi['Z'].max()\n",
    "aspect = [x_max - x_min, y_max - y_min, z_max - z_min]\n",
    "\n",
    "# 📊 2D and 3D plots for each layer\n",
    "for gid in unique_layers:\n",
    "    layer = df_clean_roi[df_clean_roi['layer_id_5MethodGeometryBased'] == gid]\n",
    "    print(f'🟢 Visualizing layer {gid} ({len(layer)} points)')\n",
    "\n",
    "    # 2D projections\n",
    "    fig, axs = plt.subplots(1, 3, figsize=(18, 5))\n",
    "\n",
    "    axs[0].scatter(layer['X'], layer['Z'], s=1, color=layer_colors_geometry_based[gid])\n",
    "    axs[0].set_title(f'Layer {gid} — XZ')\n",
    "    axs[0].set_xlabel('X')\n",
    "    axs[0].set_ylabel('Z')\n",
    "    axs[0].set_xlim(x_min, x_max)\n",
    "    axs[0].set_ylim(z_min, z_max)\n",
    "    axs[0].grid(True)\n",
    "\n",
    "    axs[1].scatter(layer['Y'], layer['Z'], s=1, color=layer_colors_geometry_based[gid])\n",
    "    axs[1].set_title(f'Layer {gid} — YZ')\n",
    "    axs[1].set_xlabel('Y')\n",
    "    axs[1].set_ylabel('Z')\n",
    "    axs[1].set_xlim(y_min, y_max)\n",
    "    axs[1].set_ylim(z_min, z_max)\n",
    "    axs[1].grid(True)\n",
    "\n",
    "    axs[2].scatter(layer['X'], layer['Y'], s=1, color=layer_colors_geometry_based[gid])\n",
    "    axs[2].set_title(f'Layer {gid} — XY')\n",
    "    axs[2].set_xlabel('X')\n",
    "    axs[2].set_ylabel('Y')\n",
    "    axs[2].set_xlim(x_min, x_max)\n",
    "    axs[2].set_ylim(y_min, y_max)\n",
    "    axs[2].grid(True)\n",
    "\n",
    "    plt.tight_layout()\n",
    "    plot_2d_path = os.path.join(output_dir, f\"layer_{gid}_2D.png\")\n",
    "    fig.savefig(plot_2d_path, dpi=300)\n",
    "    plt.close(fig)\n",
    "\n",
    "    # 3D plot for a single layer\n",
    "    fig3d = plt.figure(figsize=(8, 6))\n",
    "    ax = fig3d.add_subplot(111, projection='3d')\n",
    "    ax.scatter(layer['X'], layer['Y'], layer['Z'], s=1, color=layer_colors_geometry_based[gid])\n",
    "    ax.set_title(f'Layer {gid} — 3D')\n",
    "    ax.set_xlabel('X')\n",
    "    ax.set_ylabel('Y')\n",
    "    ax.set_zlabel('Z')\n",
    "    ax.set_xlim(x_min, x_max)\n",
    "    ax.set_ylim(y_min, y_max)\n",
    "    ax.set_zlim(z_min, z_max)\n",
    "    ax.set_box_aspect(aspect)\n",
    "    ax.view_init(elev=30, azim=225)\n",
    "\n",
    "    plot_3d_path = os.path.join(output_dir, f\"layer_{gid}_3D.png\")\n",
    "    fig3d.savefig(plot_3d_path, dpi=300)\n",
    "    plt.close(fig3d)\n",
    "\n",
    "    print(f\"💾 Saved: {plot_2d_path}, {plot_3d_path}\")\n",
    "\n",
    "# 🧩 Combined 3D plot of all layers\n",
    "fig_all = plt.figure(figsize=(10, 8))\n",
    "ax_all = fig_all.add_subplot(111, projection='3d')\n",
    "\n",
    "for gid in unique_layers:\n",
    "    layer = df_clean_roi[df_clean_roi['layer_id_5MethodGeometryBased'] == gid]\n",
    "    ax_all.scatter(layer['X'], layer['Y'], layer['Z'], s=1, color=layer_colors_geometry_based[gid], label=f'Layer {gid}')\n",
    "\n",
    "ax_all.set_title('3D Layered Point Cloud View (Geometry-Based Method)')\n",
    "ax_all.set_xlabel('X')\n",
    "ax_all.set_ylabel('Y')\n",
    "ax_all.set_zlabel('Z')\n",
    "ax_all.set_xlim(x_min, x_max)\n",
    "ax_all.set_ylim(y_min, y_max)\n",
    "ax_all.set_zlim(z_min, z_max)\n",
    "ax_all.set_box_aspect(aspect)\n",
    "ax_all.view_init(elev=30, azim=225)\n",
    "\n",
    "plot_all_path = os.path.join(output_dir, \"all_layers_3D.png\")\n",
    "fig_all.savefig(plot_all_path, dpi=300)\n",
    "plt.close(fig_all)\n",
    "\n",
    "print(f\"📌 Combined 3D plot saved: {plot_all_path}\")\n"
   ]
  },
  {
   "cell_type": "code",
   "execution_count": 9,
   "id": "6fb37c7e",
   "metadata": {},
   "outputs": [
    {
     "name": "stdout",
     "output_type": "stream",
     "text": [
      "✅ Saved: c:\\Users\\kopil\\OneDrive\\Рабочий стол\\Projects\\Additive_lab_robots\\RaTSiF\\data\\framework\\src\\5MethodGeometryBased\\output\\5MethodGeometryBased.csv\n"
     ]
    }
   ],
   "source": [
    "# 💾 Save ROI-filtered data\n",
    "output_dir = os.path.join(BASE_DIR, \"src\", \"5MethodGeometryBased\", \"output\")\n",
    "os.makedirs(output_dir, exist_ok=True)\n",
    "\n",
    "output_path = os.path.join(output_dir, \"5MethodGeometryBased.csv\")\n",
    "df_clean_roi.to_csv(output_path, index=False)\n",
    "\n",
    "print(f\"✅ Saved: {output_path}\")\n"
   ]
  }
 ],
 "metadata": {
  "colab": {
   "provenance": []
  },
  "kernelspec": {
   "display_name": ".venv",
   "language": "python",
   "name": "python3"
  },
  "language_info": {
   "codemirror_mode": {
    "name": "ipython",
    "version": 3
   },
   "file_extension": ".py",
   "mimetype": "text/x-python",
   "name": "python",
   "nbconvert_exporter": "python",
   "pygments_lexer": "ipython3",
   "version": "3.12.2"
  }
 },
 "nbformat": 4,
 "nbformat_minor": 5
}
