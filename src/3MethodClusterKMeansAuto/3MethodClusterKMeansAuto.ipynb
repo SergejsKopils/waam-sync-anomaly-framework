{
  "cells": [
    {
      "cell_type": "code",
      "execution_count": 1,
      "metadata": {
        "colab": {
          "base_uri": "https://localhost:8080/"
        },
        "id": "b8nuQPES2G1R",
        "outputId": "1ce49bb8-18c4-48a5-d358-7e5c02527662"
      },
      "outputs": [
        {
          "name": "stdout",
          "output_type": "stream",
          "text": [
            "✅ Points loaded: 694020\n"
          ]
        },
        {
          "data": {
            "text/html": [
              "<div>\n",
              "<style scoped>\n",
              "    .dataframe tbody tr th:only-of-type {\n",
              "        vertical-align: middle;\n",
              "    }\n",
              "\n",
              "    .dataframe tbody tr th {\n",
              "        vertical-align: top;\n",
              "    }\n",
              "\n",
              "    .dataframe thead th {\n",
              "        text-align: right;\n",
              "    }\n",
              "</style>\n",
              "<table border=\"1\" class=\"dataframe\">\n",
              "  <thead>\n",
              "    <tr style=\"text-align: right;\">\n",
              "      <th></th>\n",
              "      <th>X</th>\n",
              "      <th>Y</th>\n",
              "      <th>Z</th>\n",
              "    </tr>\n",
              "  </thead>\n",
              "  <tbody>\n",
              "    <tr>\n",
              "      <th>0</th>\n",
              "      <td>1885.72</td>\n",
              "      <td>323.853</td>\n",
              "      <td>-52.5201</td>\n",
              "    </tr>\n",
              "    <tr>\n",
              "      <th>1</th>\n",
              "      <td>1885.71</td>\n",
              "      <td>323.912</td>\n",
              "      <td>-52.5371</td>\n",
              "    </tr>\n",
              "    <tr>\n",
              "      <th>2</th>\n",
              "      <td>1885.74</td>\n",
              "      <td>323.992</td>\n",
              "      <td>-52.4593</td>\n",
              "    </tr>\n",
              "    <tr>\n",
              "      <th>3</th>\n",
              "      <td>1885.72</td>\n",
              "      <td>324.037</td>\n",
              "      <td>-52.5426</td>\n",
              "    </tr>\n",
              "    <tr>\n",
              "      <th>4</th>\n",
              "      <td>1885.72</td>\n",
              "      <td>324.096</td>\n",
              "      <td>-52.5586</td>\n",
              "    </tr>\n",
              "  </tbody>\n",
              "</table>\n",
              "</div>"
            ],
            "text/plain": [
              "         X        Y        Z\n",
              "0  1885.72  323.853 -52.5201\n",
              "1  1885.71  323.912 -52.5371\n",
              "2  1885.74  323.992 -52.4593\n",
              "3  1885.72  324.037 -52.5426\n",
              "4  1885.72  324.096 -52.5586"
            ]
          },
          "execution_count": 1,
          "metadata": {},
          "output_type": "execute_result"
        }
      ],
      "source": [
        "import pandas as pd\n",
        "\n",
        "# 📄 Absolute path to the CSV file\n",
        "csv_path = r\"C:\\Users\\kopil\\OneDrive\\Рабочий стол\\Projects\\Additive_lab_robots\\RaTSiF\\data\\framework\\data\\sensor\\points\\2025-04-15_17-43-22_points_694020.csv\"\n",
        "\n",
        "# 📥 Load the data\n",
        "df = pd.read_csv(csv_path)\n",
        "\n",
        "# 🖨 Preview\n",
        "print(f\"✅ Points loaded: {len(df)}\")\n",
        "df.head()\n"
      ]
    },
    {
      "cell_type": "code",
      "execution_count": 2,
      "metadata": {
        "colab": {
          "base_uri": "https://localhost:8080/"
        },
        "id": "wvXTy1Uv2MwA",
        "outputId": "368590a2-005f-4e22-c362-bed9cb98be1b"
      },
      "outputs": [
        {
          "name": "stdout",
          "output_type": "stream",
          "text": [
            "🔍 Z range for filtering: -42.35 — -31.16\n",
            "✅ Points remaining after Z filtering: 652386\n"
          ]
        }
      ],
      "source": [
        "# STEP 2: Outlier removal by Z (within the 90% range)\n",
        "z_low = df['Z'].quantile(0.05)\n",
        "z_high = df['Z'].quantile(0.99)\n",
        "\n",
        "print(f'🔍 Z range for filtering: {z_low:.2f} — {z_high:.2f}')\n",
        "\n",
        "# Apply filtering\n",
        "df_clean_z = df[(df['Z'] >= z_low) & (df['Z'] <= z_high)].copy()\n",
        "print(f'✅ Points remaining after Z filtering: {len(df_clean_z)}')\n"
      ]
    },
    {
      "cell_type": "code",
      "execution_count": 3,
      "metadata": {
        "colab": {
          "base_uri": "https://localhost:8080/"
        },
        "id": "LSzbXKgI2PGl",
        "outputId": "e2b100a4-bd58-496a-e6fa-3b260564f100"
      },
      "outputs": [
        {
          "name": "stdout",
          "output_type": "stream",
          "text": [
            "🔍 ROI Z range: -41.67 — -31.21\n",
            "🔍 ROI X range: 1819.05 — 1874.29\n",
            "🔍 ROI Y range: 348.98 — 356.71\n",
            "✅ Points remaining after ROI filtering: 22965\n"
          ]
        }
      ],
      "source": [
        "# STEP 3: ROI filtering by Y and X (central region)\n",
        "\n",
        "x_min, x_max = df_clean_z['X'].quantile([0.3, 0.9])\n",
        "y_min, y_max = df_clean_z['Y'].quantile([0.367, 0.495])\n",
        "z_min, z_max = df_clean_z['Z'].quantile([0.6, 0.999])\n",
        "\n",
        "print(f'🔍 ROI Z range: {z_min:.2f} — {z_max:.2f}')\n",
        "print(f'🔍 ROI X range: {x_min:.2f} — {x_max:.2f}')\n",
        "print(f'🔍 ROI Y range: {y_min:.2f} — {y_max:.2f}')\n",
        "\n",
        "df_clean_roi = df_clean_z[\n",
        "    (df_clean_z['X'] >= x_min) & (df_clean_z['X'] <= x_max) &\n",
        "    (df_clean_z['Y'] >= y_min) & (df_clean_z['Y'] <= y_max) &\n",
        "    (df_clean_z['Z'] >= z_min) & (df_clean_z['Z'] <= z_max)\n",
        "].copy()\n",
        "\n",
        "print(f'✅ Points remaining after ROI filtering: {len(df_clean_roi)}')\n"
      ]
    },
    {
      "cell_type": "code",
      "execution_count": 4,
      "metadata": {
        "colab": {
          "base_uri": "https://localhost:8080/"
        },
        "id": "G3g1Gq8y2SHn",
        "outputId": "be299d2d-ddb4-474d-b47d-20804cda0804"
      },
      "outputs": [
        {
          "name": "stdout",
          "output_type": "stream",
          "text": [
            "🔎 Automatically detected number of layers: 2\n",
            "📊 Number of points in each layer:\n",
            "  - Layer 1: 11695 points\n",
            "  - Layer 2: 11270 points\n",
            "\n",
            "✅ Total number of points: 22965\n"
          ]
        }
      ],
      "source": [
        "import numpy as np\n",
        "import pandas as pd\n",
        "from sklearn.cluster import KMeans\n",
        "from sklearn.neighbors import KernelDensity\n",
        "from scipy.signal import find_peaks\n",
        "\n",
        "# 📥 Assumes that df_clean_roi is already created\n",
        "df_input = df_clean_roi.copy()\n",
        "\n",
        "# 📈 Determine number of clusters using KDE + peak detection\n",
        "z_vals = df_input[['Z']].values\n",
        "kde = KernelDensity(kernel='gaussian', bandwidth=0.5).fit(z_vals)\n",
        "\n",
        "z_grid = np.linspace(z_vals.min(), z_vals.max(), 1000).reshape(-1, 1)\n",
        "log_dens = kde.score_samples(z_grid)\n",
        "density = np.exp(log_dens)\n",
        "\n",
        "peaks, _ = find_peaks(density, distance=10, prominence=0.01)\n",
        "n_clusters_local = len(peaks)\n",
        "\n",
        "print(f\"🔎 Automatically detected number of layers: {n_clusters_local}\")\n",
        "\n",
        "# 📌 Clustering along the Z-axis\n",
        "kmeans = KMeans(n_clusters=n_clusters_local, random_state=42)\n",
        "df_input['layer_id_1MethodKmeanKernelDensit'] = kmeans.fit_predict(z_vals)\n",
        "\n",
        "# 🧭 Renumber layers from bottom to top, starting from 1\n",
        "centers = kmeans.cluster_centers_.flatten()\n",
        "sorted_idx = np.argsort(centers)\n",
        "mapping = {old: new + 1 for new, old in enumerate(sorted_idx)}  # 👈 shift by +1\n",
        "df_input['layer_id_1MethodKmeanKernelDensit'] = df_input['layer_id_1MethodKmeanKernelDensit'].map(mapping)\n",
        "\n",
        "# 🧮 Layer statistics\n",
        "print(\"📊 Number of points in each layer:\")\n",
        "for lid in sorted(df_input['layer_id_1MethodKmeanKernelDensit'].unique()):\n",
        "    count = (df_input['layer_id_1MethodKmeanKernelDensit'] == lid).sum()\n",
        "    print(f\"  - Layer {lid}: {count} points\")\n",
        "\n",
        "print(f\"\\n✅ Total number of points: {len(df_input)}\")\n"
      ]
    },
    {
      "cell_type": "code",
      "execution_count": 5,
      "metadata": {
        "colab": {
          "base_uri": "https://localhost:8080/",
          "height": 542
        },
        "id": "tcd3xjEh2q06",
        "outputId": "a95cde04-227a-4010-fcd3-3bdbae0a2202"
      },
      "outputs": [],
      "source": [
        "import plotly.graph_objs as go\n",
        "\n",
        "# Unique global layers\n",
        "unique_layers = sorted(df_input['layer_id_1MethodKmeanKernelDensit'].unique())  # global_layer_id\n",
        "\n",
        "# 🎯 Points for each layer\n",
        "data = []\n",
        "for lid in unique_layers:\n",
        "    subset = df_input[df_input['layer_id_1MethodKmeanKernelDensit'] == lid]\n",
        "    trace = go.Scatter3d(\n",
        "        x=subset['X'],\n",
        "        y=subset['Y'],\n",
        "        z=subset['Z'],\n",
        "        mode='markers',\n",
        "        marker=dict(size=2),\n",
        "        name=f'Layer {lid}',\n",
        "        visible=True if lid == 0 else False  # Show only the first layer by default\n",
        "    )\n",
        "    data.append(trace)\n",
        "\n",
        "# 🔘 Buttons to switch layers\n",
        "buttons = []\n",
        "for i, lid in enumerate(unique_layers):\n",
        "    visible = [j == i for j in range(len(unique_layers))]\n",
        "    buttons.append(dict(\n",
        "        label=f\"Layer {lid}\",\n",
        "        method=\"update\",\n",
        "        args=[{\"visible\": visible}, {\"title\": f\"3D: Only Layer {lid}\"}]\n",
        "    ))\n",
        "\n",
        "# Button to show all layers\n",
        "buttons.insert(0, dict(\n",
        "    label=\"All Layers\",\n",
        "    method=\"update\",\n",
        "    args=[{\"visible\": [True]*len(unique_layers)}, {\"title\": \"3D: All Layers\"}]\n",
        "))\n",
        "\n",
        "# ⚙️ Final chart assembly\n",
        "fig = go.Figure(data=data)\n",
        "fig.update_layout(\n",
        "    updatemenus=[dict(\n",
        "        type=\"dropdown\",\n",
        "        direction=\"down\",\n",
        "        showactive=True,\n",
        "        x=1.05, y=1,\n",
        "        buttons=buttons\n",
        "    )],\n",
        "    scene=dict(\n",
        "        xaxis_title='X',\n",
        "        yaxis_title='Y',\n",
        "        zaxis_title='Z',\n",
        "        aspectmode='data'\n",
        "    ),\n",
        "    title=\"3D: Only Layer 0 (default)\"\n",
        ")\n",
        "\n",
        "# 👁 Show\n",
        "# fig.show()\n",
        "pass\n"
      ]
    },
    {
      "cell_type": "code",
      "execution_count": 6,
      "metadata": {},
      "outputs": [
        {
          "name": "stdout",
          "output_type": "stream",
          "text": [
            "✅ Plot saved: ./output\\3D_KmeansAuto_layers.html\n"
          ]
        }
      ],
      "source": [
        "import os\n",
        "\n",
        "# 📁 Path to the output folder next to this notebook\n",
        "output_dir = \"./output\"\n",
        "os.makedirs(output_dir, exist_ok=True)\n",
        "\n",
        "# 📄 Path to the HTML file\n",
        "output_path = os.path.join(output_dir, \"3D_KmeansAuto_layers.html\")\n",
        "\n",
        "# 💾 Save the figure\n",
        "fig.write_html(output_path)\n",
        "print(f\"✅ Plot saved: {output_path}\")\n"
      ]
    },
    {
      "cell_type": "code",
      "execution_count": 7,
      "metadata": {},
      "outputs": [
        {
          "name": "stderr",
          "output_type": "stream",
          "text": [
            "C:\\Users\\kopil\\AppData\\Local\\Temp\\ipykernel_38112\\995823764.py:16: MatplotlibDeprecationWarning:\n",
            "\n",
            "The get_cmap function was deprecated in Matplotlib 3.7 and will be removed in 3.11. Use ``matplotlib.colormaps[name]`` or ``matplotlib.colormaps.get_cmap()`` or ``pyplot.get_cmap()`` instead.\n",
            "\n"
          ]
        },
        {
          "name": "stdout",
          "output_type": "stream",
          "text": [
            "🟢 Visualizing layer 1 (11695 points)\n",
            "💾 Saved: ./output/plots_KmeasAuto_layers\\layer_1_2D.png, ./output/plots_KmeasAuto_layers\\layer_1_3D.png\n",
            "🟢 Visualizing layer 2 (11270 points)\n",
            "💾 Saved: ./output/plots_KmeasAuto_layers\\layer_2_2D.png, ./output/plots_KmeasAuto_layers\\layer_2_3D.png\n",
            "📌 Combined 3D plot saved: ./output/plots_KmeasAuto_layers\\all_layers_3D.png\n"
          ]
        }
      ],
      "source": [
        "# ✅ Combined 3D plot added (KMeans with Auto Cluster Count)\n",
        "\n",
        "import os\n",
        "import matplotlib.pyplot as plt\n",
        "from mpl_toolkits.mplot3d import Axes3D\n",
        "import matplotlib.cm as cm\n",
        "import numpy as np\n",
        "\n",
        "# 📁 Output folder\n",
        "output_dir = \"./output/plots_KmeasAuto_layers\"\n",
        "os.makedirs(output_dir, exist_ok=True)\n",
        "\n",
        "# 📌 Unique layers and color map\n",
        "unique_layers = sorted(df_input['layer_id_1MethodKmeanKernelDensit'].unique())\n",
        "n_layers = len(unique_layers)\n",
        "colormap = cm.get_cmap('tab20', n_layers)\n",
        "layer_colors_kmeans_auto = {layer_id: colormap(i) for i, layer_id in enumerate(unique_layers)}\n",
        "\n",
        "# 📐 Fixed axis limits\n",
        "x_min, x_max = df_input['X'].min(), df_input['X'].max()\n",
        "y_min, y_max = df_input['Y'].min(), df_input['Y'].max()\n",
        "z_min, z_max = df_input['Z'].min(), df_input['Z'].max()\n",
        "aspect = [x_max - x_min, y_max - y_min, z_max - z_min]\n",
        "\n",
        "# 📊 Individual 2D and 3D plots for each layer\n",
        "for gid in unique_layers:\n",
        "    layer = df_input[df_input['layer_id_1MethodKmeanKernelDensit'] == gid]\n",
        "    print(f'🟢 Visualizing layer {gid} ({len(layer)} points)')\n",
        "\n",
        "    # 2D projections\n",
        "    fig, axs = plt.subplots(1, 3, figsize=(18, 5))\n",
        "\n",
        "    axs[0].scatter(layer['X'], layer['Z'], s=1, color=layer_colors_kmeans_auto[gid])\n",
        "    axs[0].set_title(f'Layer {gid} — XZ')\n",
        "    axs[0].set_xlabel('X')\n",
        "    axs[0].set_ylabel('Z')\n",
        "    axs[0].set_xlim(x_min, x_max)\n",
        "    axs[0].set_ylim(z_min, z_max)\n",
        "    axs[0].grid(True)\n",
        "\n",
        "    axs[1].scatter(layer['Y'], layer['Z'], s=1, color=layer_colors_kmeans_auto[gid])\n",
        "    axs[1].set_title(f'Layer {gid} — YZ')\n",
        "    axs[1].set_xlabel('Y')\n",
        "    axs[1].set_ylabel('Z')\n",
        "    axs[1].set_xlim(y_min, y_max)\n",
        "    axs[1].set_ylim(z_min, z_max)\n",
        "    axs[1].grid(True)\n",
        "\n",
        "    axs[2].scatter(layer['X'], layer['Y'], s=1, color=layer_colors_kmeans_auto[gid])\n",
        "    axs[2].set_title(f'Layer {gid} — XY')\n",
        "    axs[2].set_xlabel('X')\n",
        "    axs[2].set_ylabel('Y')\n",
        "    axs[2].set_xlim(x_min, x_max)\n",
        "    axs[2].set_ylim(y_min, y_max)\n",
        "    axs[2].grid(True)\n",
        "\n",
        "    plt.tight_layout()\n",
        "    plot_2d_path = os.path.join(output_dir, f\"layer_{gid}_2D.png\")\n",
        "    fig.savefig(plot_2d_path, dpi=300)\n",
        "    plt.close(fig)\n",
        "\n",
        "    # 3D plot per layer\n",
        "    fig3d = plt.figure(figsize=(8, 6))\n",
        "    ax = fig3d.add_subplot(111, projection='3d')\n",
        "    ax.scatter(layer['X'], layer['Y'], layer['Z'], s=1, color=layer_colors_kmeans_auto[gid])\n",
        "    ax.set_title(f'Layer {gid} — 3D')\n",
        "    ax.set_xlabel('X')\n",
        "    ax.set_ylabel('Y')\n",
        "    ax.set_zlabel('Z')\n",
        "    ax.set_xlim(x_min, x_max)\n",
        "    ax.set_ylim(y_min, y_max)\n",
        "    ax.set_zlim(z_min, z_max)\n",
        "    ax.set_box_aspect(aspect)\n",
        "    ax.view_init(elev=30, azim=225)\n",
        "\n",
        "    plot_3d_path = os.path.join(output_dir, f\"layer_{gid}_3D.png\")\n",
        "    fig3d.savefig(plot_3d_path, dpi=300)\n",
        "    plt.close(fig3d)\n",
        "\n",
        "    print(f\"💾 Saved: {plot_2d_path}, {plot_3d_path}\")\n",
        "\n",
        "# 🧩 Combined 3D plot of all layers\n",
        "fig_all = plt.figure(figsize=(10, 8))\n",
        "ax_all = fig_all.add_subplot(111, projection='3d')\n",
        "\n",
        "for gid in unique_layers:\n",
        "    layer = df_input[df_input['layer_id_1MethodKmeanKernelDensit'] == gid]\n",
        "    ax_all.scatter(layer['X'], layer['Y'], layer['Z'], s=1, color=layer_colors_kmeans_auto[gid], label=f'Layer {gid}')\n",
        "\n",
        "ax_all.set_title('3D Layered Point Cloud View (KMeans Auto)')\n",
        "ax_all.set_xlabel('X')\n",
        "ax_all.set_ylabel('Y')\n",
        "ax_all.set_zlabel('Z')\n",
        "ax_all.set_xlim(x_min, x_max)\n",
        "ax_all.set_ylim(y_min, y_max)\n",
        "ax_all.set_zlim(z_min, z_max)\n",
        "ax_all.set_box_aspect(aspect)\n",
        "ax_all.view_init(elev=30, azim=225)\n",
        "\n",
        "plot_all_path = os.path.join(output_dir, \"all_layers_3D.png\")\n",
        "fig_all.savefig(plot_all_path, dpi=300)\n",
        "plt.close(fig_all)\n",
        "\n",
        "print(f\"📌 Combined 3D plot saved: {plot_all_path}\")\n"
      ]
    },
    {
      "cell_type": "code",
      "execution_count": 8,
      "metadata": {
        "colab": {
          "base_uri": "https://localhost:8080/"
        },
        "id": "-ifzZTuV21IT",
        "outputId": "15434163-b6d9-476f-cf8a-2becfbe0e994"
      },
      "outputs": [
        {
          "name": "stdout",
          "output_type": "stream",
          "text": [
            "✅ Saved: C:\\Users\\kopil\\OneDrive\\Рабочий стол\\Projects\\Additive_lab_robots\\RaTSiF\\data\\framework\\src\\3MethodClusterKMeansAuto\\output\\3MethodClusterKMeansAuto.csv\n"
          ]
        }
      ],
      "source": [
        "import os\n",
        "\n",
        "output_dir = r\"C:\\Users\\kopil\\OneDrive\\Рабочий стол\\Projects\\Additive_lab_robots\\RaTSiF\\data\\framework\\src\\3MethodClusterKMeansAuto\\output\"\n",
        "os.makedirs(output_dir, exist_ok=True)\n",
        "\n",
        "output_path = os.path.join(output_dir, \"3MethodClusterKMeansAuto.csv\")\n",
        "df_input.to_csv(output_path, index=False)\n",
        "\n",
        "print(f\"✅ Saved: {output_path}\")\n"
      ]
    }
  ],
  "metadata": {
    "colab": {
      "provenance": []
    },
    "kernelspec": {
      "display_name": ".venv",
      "language": "python",
      "name": "python3"
    },
    "language_info": {
      "codemirror_mode": {
        "name": "ipython",
        "version": 3
      },
      "file_extension": ".py",
      "mimetype": "text/x-python",
      "name": "python",
      "nbconvert_exporter": "python",
      "pygments_lexer": "ipython3",
      "version": "3.12.2"
    }
  },
  "nbformat": 4,
  "nbformat_minor": 0
}
