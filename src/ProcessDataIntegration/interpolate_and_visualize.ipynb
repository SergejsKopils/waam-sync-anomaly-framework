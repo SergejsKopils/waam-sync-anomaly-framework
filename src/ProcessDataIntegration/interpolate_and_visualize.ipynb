{
 "cells": [
  {
   "cell_type": "code",
   "execution_count": 1,
   "id": "8337e2c8",
   "metadata": {},
   "outputs": [],
   "source": [
    "import pandas as pd\n",
    "import numpy as np\n",
    "from scipy.interpolate import interp1d\n",
    "import plotly.graph_objects as go"
   ]
  },
  {
   "cell_type": "code",
   "execution_count": 2,
   "id": "b8a654cd",
   "metadata": {},
   "outputs": [],
   "source": [
    "# ✅ Load data using relative paths\n",
    "df_process = pd.read_csv(\"../ProcessData_ClusterByZ_DBSCAN/output/ProcessData_ClusterByZ_DBSCAN.csv\")\n",
    "df_geometry = pd.read_csv(\"../5MethodGeometryBased/output/5MethodGeometryBased.csv\")\n"
   ]
  },
  {
   "cell_type": "code",
   "execution_count": 3,
   "id": "82b489ce",
   "metadata": {},
   "outputs": [],
   "source": [
    "# === 1. Load data ===\n",
    "\n",
    "df_process['layer_id'] = df_process['layer_id'].astype(int)\n",
    "df_geometry['layer_id'] = df_geometry['layer_id_5MethodGeometryBased'].astype(int)"
   ]
  },
  {
   "cell_type": "code",
   "execution_count": 4,
   "id": "56060722",
   "metadata": {},
   "outputs": [
    {
     "name": "stderr",
     "output_type": "stream",
     "text": [
      "c:\\Users\\kopil\\OneDrive\\Рабочий стол\\Projects\\Additive_lab_robots\\RaTSiF\\data\\framework\\.venv\\Lib\\site-packages\\scipy\\interpolate\\_interpolate.py:479: RuntimeWarning: divide by zero encountered in divide\n",
      "  slope = (y_hi - y_lo) / (x_hi - x_lo)[:, None]\n",
      "c:\\Users\\kopil\\OneDrive\\Рабочий стол\\Projects\\Additive_lab_robots\\RaTSiF\\data\\framework\\.venv\\Lib\\site-packages\\scipy\\interpolate\\_interpolate.py:479: RuntimeWarning: divide by zero encountered in divide\n",
      "  slope = (y_hi - y_lo) / (x_hi - x_lo)[:, None]\n",
      "c:\\Users\\kopil\\OneDrive\\Рабочий стол\\Projects\\Additive_lab_robots\\RaTSiF\\data\\framework\\.venv\\Lib\\site-packages\\scipy\\interpolate\\_interpolate.py:479: RuntimeWarning: divide by zero encountered in divide\n",
      "  slope = (y_hi - y_lo) / (x_hi - x_lo)[:, None]\n",
      "c:\\Users\\kopil\\OneDrive\\Рабочий стол\\Projects\\Additive_lab_robots\\RaTSiF\\data\\framework\\.venv\\Lib\\site-packages\\scipy\\interpolate\\_interpolate.py:479: RuntimeWarning: invalid value encountered in divide\n",
      "  slope = (y_hi - y_lo) / (x_hi - x_lo)[:, None]\n",
      "c:\\Users\\kopil\\OneDrive\\Рабочий стол\\Projects\\Additive_lab_robots\\RaTSiF\\data\\framework\\.venv\\Lib\\site-packages\\scipy\\interpolate\\_interpolate.py:479: RuntimeWarning: invalid value encountered in divide\n",
      "  slope = (y_hi - y_lo) / (x_hi - x_lo)[:, None]\n",
      "c:\\Users\\kopil\\OneDrive\\Рабочий стол\\Projects\\Additive_lab_robots\\RaTSiF\\data\\framework\\.venv\\Lib\\site-packages\\scipy\\interpolate\\_interpolate.py:479: RuntimeWarning: invalid value encountered in divide\n",
      "  slope = (y_hi - y_lo) / (x_hi - x_lo)[:, None]\n",
      "c:\\Users\\kopil\\OneDrive\\Рабочий стол\\Projects\\Additive_lab_robots\\RaTSiF\\data\\framework\\.venv\\Lib\\site-packages\\scipy\\interpolate\\_interpolate.py:479: RuntimeWarning: invalid value encountered in divide\n",
      "  slope = (y_hi - y_lo) / (x_hi - x_lo)[:, None]\n",
      "c:\\Users\\kopil\\OneDrive\\Рабочий стол\\Projects\\Additive_lab_robots\\RaTSiF\\data\\framework\\.venv\\Lib\\site-packages\\scipy\\interpolate\\_interpolate.py:479: RuntimeWarning: invalid value encountered in divide\n",
      "  slope = (y_hi - y_lo) / (x_hi - x_lo)[:, None]\n",
      "c:\\Users\\kopil\\OneDrive\\Рабочий стол\\Projects\\Additive_lab_robots\\RaTSiF\\data\\framework\\.venv\\Lib\\site-packages\\scipy\\interpolate\\_interpolate.py:479: RuntimeWarning: divide by zero encountered in divide\n",
      "  slope = (y_hi - y_lo) / (x_hi - x_lo)[:, None]\n",
      "c:\\Users\\kopil\\OneDrive\\Рабочий стол\\Projects\\Additive_lab_robots\\RaTSiF\\data\\framework\\.venv\\Lib\\site-packages\\scipy\\interpolate\\_interpolate.py:479: RuntimeWarning: divide by zero encountered in divide\n",
      "  slope = (y_hi - y_lo) / (x_hi - x_lo)[:, None]\n",
      "c:\\Users\\kopil\\OneDrive\\Рабочий стол\\Projects\\Additive_lab_robots\\RaTSiF\\data\\framework\\.venv\\Lib\\site-packages\\scipy\\interpolate\\_interpolate.py:479: RuntimeWarning: divide by zero encountered in divide\n",
      "  slope = (y_hi - y_lo) / (x_hi - x_lo)[:, None]\n",
      "c:\\Users\\kopil\\OneDrive\\Рабочий стол\\Projects\\Additive_lab_robots\\RaTSiF\\data\\framework\\.venv\\Lib\\site-packages\\scipy\\interpolate\\_interpolate.py:479: RuntimeWarning: invalid value encountered in divide\n",
      "  slope = (y_hi - y_lo) / (x_hi - x_lo)[:, None]\n",
      "c:\\Users\\kopil\\OneDrive\\Рабочий стол\\Projects\\Additive_lab_robots\\RaTSiF\\data\\framework\\.venv\\Lib\\site-packages\\scipy\\interpolate\\_interpolate.py:479: RuntimeWarning: invalid value encountered in divide\n",
      "  slope = (y_hi - y_lo) / (x_hi - x_lo)[:, None]\n",
      "c:\\Users\\kopil\\OneDrive\\Рабочий стол\\Projects\\Additive_lab_robots\\RaTSiF\\data\\framework\\.venv\\Lib\\site-packages\\scipy\\interpolate\\_interpolate.py:479: RuntimeWarning: invalid value encountered in divide\n",
      "  slope = (y_hi - y_lo) / (x_hi - x_lo)[:, None]\n",
      "c:\\Users\\kopil\\OneDrive\\Рабочий стол\\Projects\\Additive_lab_robots\\RaTSiF\\data\\framework\\.venv\\Lib\\site-packages\\scipy\\interpolate\\_interpolate.py:479: RuntimeWarning: invalid value encountered in divide\n",
      "  slope = (y_hi - y_lo) / (x_hi - x_lo)[:, None]\n",
      "c:\\Users\\kopil\\OneDrive\\Рабочий стол\\Projects\\Additive_lab_robots\\RaTSiF\\data\\framework\\.venv\\Lib\\site-packages\\scipy\\interpolate\\_interpolate.py:479: RuntimeWarning: invalid value encountered in divide\n",
      "  slope = (y_hi - y_lo) / (x_hi - x_lo)[:, None]\n",
      "c:\\Users\\kopil\\OneDrive\\Рабочий стол\\Projects\\Additive_lab_robots\\RaTSiF\\data\\framework\\.venv\\Lib\\site-packages\\scipy\\interpolate\\_interpolate.py:479: RuntimeWarning: invalid value encountered in divide\n",
      "  slope = (y_hi - y_lo) / (x_hi - x_lo)[:, None]\n",
      "c:\\Users\\kopil\\OneDrive\\Рабочий стол\\Projects\\Additive_lab_robots\\RaTSiF\\data\\framework\\.venv\\Lib\\site-packages\\scipy\\interpolate\\_interpolate.py:479: RuntimeWarning: invalid value encountered in divide\n",
      "  slope = (y_hi - y_lo) / (x_hi - x_lo)[:, None]\n",
      "c:\\Users\\kopil\\OneDrive\\Рабочий стол\\Projects\\Additive_lab_robots\\RaTSiF\\data\\framework\\.venv\\Lib\\site-packages\\scipy\\interpolate\\_interpolate.py:479: RuntimeWarning: invalid value encountered in divide\n",
      "  slope = (y_hi - y_lo) / (x_hi - x_lo)[:, None]\n",
      "c:\\Users\\kopil\\OneDrive\\Рабочий стол\\Projects\\Additive_lab_robots\\RaTSiF\\data\\framework\\.venv\\Lib\\site-packages\\scipy\\interpolate\\_interpolate.py:479: RuntimeWarning: invalid value encountered in divide\n",
      "  slope = (y_hi - y_lo) / (x_hi - x_lo)[:, None]\n",
      "c:\\Users\\kopil\\OneDrive\\Рабочий стол\\Projects\\Additive_lab_robots\\RaTSiF\\data\\framework\\.venv\\Lib\\site-packages\\scipy\\interpolate\\_interpolate.py:479: RuntimeWarning: divide by zero encountered in divide\n",
      "  slope = (y_hi - y_lo) / (x_hi - x_lo)[:, None]\n",
      "c:\\Users\\kopil\\OneDrive\\Рабочий стол\\Projects\\Additive_lab_robots\\RaTSiF\\data\\framework\\.venv\\Lib\\site-packages\\scipy\\interpolate\\_interpolate.py:479: RuntimeWarning: divide by zero encountered in divide\n",
      "  slope = (y_hi - y_lo) / (x_hi - x_lo)[:, None]\n",
      "c:\\Users\\kopil\\OneDrive\\Рабочий стол\\Projects\\Additive_lab_robots\\RaTSiF\\data\\framework\\.venv\\Lib\\site-packages\\scipy\\interpolate\\_interpolate.py:479: RuntimeWarning: divide by zero encountered in divide\n",
      "  slope = (y_hi - y_lo) / (x_hi - x_lo)[:, None]\n",
      "c:\\Users\\kopil\\OneDrive\\Рабочий стол\\Projects\\Additive_lab_robots\\RaTSiF\\data\\framework\\.venv\\Lib\\site-packages\\scipy\\interpolate\\_interpolate.py:479: RuntimeWarning: invalid value encountered in divide\n",
      "  slope = (y_hi - y_lo) / (x_hi - x_lo)[:, None]\n"
     ]
    },
    {
     "name": "stdout",
     "output_type": "stream",
     "text": [
      "✅ Interpolation complete. Row count: 22965\n"
     ]
    }
   ],
   "source": [
    "# === 2. Align X by layer center ===\n",
    "df_proc_bounds = df_process.groupby('layer_id')['x'].agg(min_x_proc='min', max_x_proc='max')\n",
    "df_geom_bounds = df_geometry.groupby('layer_id')['X'].agg(min_x_geom='min', max_x_geom='max')\n",
    "df_align = pd.merge(df_proc_bounds, df_geom_bounds, left_index=True, right_index=True)\n",
    "df_align['center_proc'] = (df_align['min_x_proc'] + df_align['max_x_proc']) / 2\n",
    "df_align['center_geom'] = (df_align['min_x_geom'] + df_align['max_x_geom']) / 2\n",
    "df_align['shift'] = df_align['center_geom'] - df_align['center_proc']\n",
    "shift_map = df_align['shift'].to_dict()\n",
    "\n",
    "df_process['x_aligned'] = df_process.apply(\n",
    "    lambda row: row['x'] + shift_map.get(row['layer_id'], 0),\n",
    "    axis=1\n",
    ")\n",
    "\n",
    "# === 3. Interpolate process parameters ===\n",
    "skipped_layers = []\n",
    "\n",
    "def transfer_process_to_geometry_interpolated(layer_id, df_process, df_geometry):\n",
    "    proc = df_process[df_process['layer_id'] == layer_id].sort_values('x_aligned')\n",
    "    geom = df_geometry[df_geometry['layer_id_5MethodGeometryBased'] == layer_id].sort_values('X')\n",
    "\n",
    "    if len(proc) < 2 or len(geom) < 2 or proc['x_aligned'].nunique() < 2:\n",
    "        skipped_layers.append(layer_id)\n",
    "        print(f\"[!] Skipped layer {layer_id} — not enough unique points\")\n",
    "        return pd.DataFrame()\n",
    "\n",
    "    interpolated = geom.copy()\n",
    "    for col in ['I', 'U', 'WFS', 'speed']:\n",
    "        interp_func = interp1d(proc['x_aligned'], proc[col], bounds_error=False, fill_value=\"extrapolate\")\n",
    "        interpolated[f'proc_{col}'] = interp_func(geom['X'].values)\n",
    "\n",
    "    interpolated['matched_layer_id'] = layer_id\n",
    "    return interpolated\n",
    "\n",
    "common_layers = sorted(set(df_process['layer_id']) & set(df_geometry['layer_id_5MethodGeometryBased']))\n",
    "geom_interp_all = pd.concat([\n",
    "    transfer_process_to_geometry_interpolated(lid, df_process, df_geometry)\n",
    "    for lid in common_layers\n",
    "], ignore_index=True)\n",
    "\n",
    "print(\"✅ Interpolation complete. Row count:\", len(geom_interp_all))\n",
    "if skipped_layers:\n",
    "    print(\"⚠️ Skipped layers:\", skipped_layers)\n",
    "\n",
    "# === 4. 3D visualization ===\n",
    "fig = go.Figure()\n",
    "\n",
    "for lid in common_layers:\n",
    "    if lid in skipped_layers:\n",
    "        continue\n",
    "\n",
    "    layer_data = geom_interp_all[geom_interp_all['matched_layer_id'] == lid]\n",
    "    fig.add_trace(go.Scatter3d(\n",
    "        x=layer_data['X'],\n",
    "        y=layer_data['Y'],\n",
    "        z=layer_data['Z'],\n",
    "        mode='markers',\n",
    "        marker=dict(size=2),\n",
    "        name=f\"Layer {lid}\",\n",
    "        hovertemplate=(\n",
    "            \"Layer \" + str(lid) + \"<br>\"\n",
    "            \"X: %{x:.2f} mm<br>\"\n",
    "            \"Y: %{y:.2f} mm<br>\"\n",
    "            \"Z: %{z:.2f} mm<br>\"\n",
    "            \"I: %{customdata[0]:.2f} A<br>\"\n",
    "            \"U: %{customdata[1]:.2f} V<br>\"\n",
    "            \"WFS: %{customdata[2]:.2f} m/min<br>\"\n",
    "            \"Speed: %{customdata[3]:.2f} mm/s<br><extra></extra>\"\n",
    "        ),\n",
    "        customdata=layer_data[['proc_I', 'proc_U', 'proc_WFS', 'proc_speed']].round(2).values\n",
    "    ))\n",
    "\n",
    "# === 5. Axis scale locking ===\n",
    "x_range = [geom_interp_all['X'].min(), geom_interp_all['X'].max()]\n",
    "y_range = [geom_interp_all['Y'].min(), geom_interp_all['Y'].max()]\n",
    "z_range = [geom_interp_all['Z'].min(), geom_interp_all['Z'].max()]\n",
    "axis_length = max(\n",
    "    x_range[1] - x_range[0],\n",
    "    y_range[1] - y_range[0],\n",
    "    z_range[1] - z_range[0]\n",
    ")\n",
    "\n",
    "fig.update_layout(\n",
    "    title=\"3D Geometry with Interpolated Process Parameters (All Layers)\",\n",
    "    scene=dict(\n",
    "        xaxis=dict(title='X', range=[x_range[0], x_range[0] + axis_length]),\n",
    "        yaxis=dict(title='Y', range=[y_range[0], y_range[0] + axis_length]),\n",
    "        zaxis=dict(title='Z', range=[z_range[0], z_range[0] + axis_length])\n",
    "    ),\n",
    "    margin=dict(l=0, r=0, b=0, t=40),\n",
    "    legend_title=\"Layer\"\n",
    ")\n",
    "\n",
    "# fig.show()\n",
    "pass\n"
   ]
  },
  {
   "cell_type": "code",
   "execution_count": 5,
   "id": "c4b77a12",
   "metadata": {},
   "outputs": [
    {
     "name": "stdout",
     "output_type": "stream",
     "text": [
      "✅ Plot saved: ./output\\3D_GeometryInterpolatedProcessParameters_layers.html\n"
     ]
    }
   ],
   "source": [
    "import os\n",
    "\n",
    "# 📁 Path to the output directory next to this notebook\n",
    "output_dir = \"./output\"\n",
    "os.makedirs(output_dir, exist_ok=True)\n",
    "\n",
    "# 📄 Path to the HTML file\n",
    "output_path = os.path.join(output_dir, \"3D_GeometryInterpolatedProcessParameters_layers.html\")\n",
    "\n",
    "# 💾 Save the figure\n",
    "fig.write_html(output_path)\n",
    "print(f\"✅ Plot saved: {output_path}\")\n"
   ]
  },
  {
   "cell_type": "code",
   "execution_count": 6,
   "id": "25d806e7",
   "metadata": {},
   "outputs": [
    {
     "name": "stdout",
     "output_type": "stream",
     "text": [
      "✅ Saved to: C:\\Users\\kopil\\OneDrive\\Рабочий стол\\Projects\\Additive_lab_robots\\RaTSiF\\data\\framework\\src\\ProcessDataIntegration\\output\\Interpolated_Geometry_With_Process_Params.csv\n"
     ]
    }
   ],
   "source": [
    "# === 6. Save the result to CSV ===\n",
    "from pathlib import Path\n",
    "\n",
    "# Create the output directory (if it doesn't already exist)\n",
    "output_dir = Path(\"output\")\n",
    "output_dir.mkdir(parents=True, exist_ok=True)\n",
    "\n",
    "# Path to the output file\n",
    "output_path = output_dir / \"Interpolated_Geometry_With_Process_Params.csv\"\n",
    "\n",
    "# Save the DataFrame\n",
    "geom_interp_all.to_csv(output_path, index=False)\n",
    "\n",
    "print(f\"✅ Saved to: {output_path.resolve()}\")\n"
   ]
  }
 ],
 "metadata": {
  "kernelspec": {
   "display_name": ".venv",
   "language": "python",
   "name": "python3"
  },
  "language_info": {
   "codemirror_mode": {
    "name": "ipython",
    "version": 3
   },
   "file_extension": ".py",
   "mimetype": "text/x-python",
   "name": "python",
   "nbconvert_exporter": "python",
   "pygments_lexer": "ipython3",
   "version": "3.12.2"
  }
 },
 "nbformat": 4,
 "nbformat_minor": 5
}
